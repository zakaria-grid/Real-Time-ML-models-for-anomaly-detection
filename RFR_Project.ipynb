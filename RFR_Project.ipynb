{
  "nbformat": 4,
  "nbformat_minor": 0,
  "metadata": {
    "colab": {
      "name": "RFR Project.ipynb",
      "provenance": [],
      "collapsed_sections": []
    },
    "kernelspec": {
      "name": "python3",
      "display_name": "Python 3"
    }
  },
  "cells": [
    {
      "cell_type": "markdown",
      "metadata": {
        "id": "TFAhsYJrBf0Y"
      },
      "source": [
        "#I. Load the required libraries"
      ]
    },
    {
      "cell_type": "code",
      "metadata": {
        "id": "qDoduNSxDKf9"
      },
      "source": [
        "import tensorflow as tf\n",
        "import numpy as np\n",
        "import pandas\n",
        "from keras.models import Sequential\n",
        "from keras.layers import Dense\n",
        "from keras.wrappers.scikit_learn import KerasClassifier\n",
        "from keras.utils import np_utils\n",
        "from sklearn.model_selection import cross_val_score, KFold, train_test_split, learning_curve\n",
        "from sklearn.preprocessing import LabelEncoder\n",
        "from sklearn.pipeline import Pipeline\n",
        "from google.colab import drive\n",
        "import seaborn as sns \n",
        "import matplotlib.pyplot as plt\n",
        "from sklearn.metrics import classification_report,multilabel_confusion_matrix,confusion_matrix,accuracy_score, mean_squared_error, explained_variance_score, make_scorer, mean_absolute_error, r2_score\n",
        "from sklearn.neural_network import MLPRegressor\n",
        "from keras.models import Sequential\n",
        "from keras.layers import Dense\n",
        "from keras.wrappers.scikit_learn import KerasRegressor\n",
        "from keras.utils import np_utils\n",
        "from sklearn.neighbors import KNeighborsRegressor \n",
        "from sklearn.svm import SVR\n",
        "from sklearn import linear_model\n",
        "from sklearn.tree import DecisionTreeRegressor\n",
        "from sklearn.ensemble import RandomForestRegressor\n",
        "from sklearn.model_selection import GridSearchCV \n",
        "from random import randint\n",
        "from sklearn.model_selection import RandomizedSearchCV\n"
      ],
      "execution_count": 2,
      "outputs": []
    },
    {
      "cell_type": "markdown",
      "metadata": {
        "id": "w-URrW-A8Mth"
      },
      "source": [
        "##II. Dataset Preparation"
      ]
    },
    {
      "cell_type": "code",
      "metadata": {
        "id": "IiExBULvDb01",
        "colab": {
          "base_uri": "https://localhost:8080/",
          "height": 302
        },
        "outputId": "cebb449f-4dd3-454b-bbfa-3e8f32b70e53"
      },
      "source": [
        "drive.mount('/content/gdrive')\n",
        "%cd '/content/gdrive/My Drive/'\n",
        "\n",
        "dataframe = pandas.read_csv(\"ML_Project/faultdataset-Bus7.csv\")\n",
        "dataframe.sample(n=5)"
      ],
      "execution_count": 5,
      "outputs": [
        {
          "output_type": "stream",
          "name": "stdout",
          "text": [
            "Mounted at /content/gdrive\n",
            "/content/gdrive/My Drive\n"
          ]
        },
        {
          "output_type": "execute_result",
          "data": {
            "text/html": [
              "\n",
              "  <div id=\"df-4d2f9b14-6f65-41e8-884f-be9ba81691d9\">\n",
              "    <div class=\"colab-df-container\">\n",
              "      <div>\n",
              "<style scoped>\n",
              "    .dataframe tbody tr th:only-of-type {\n",
              "        vertical-align: middle;\n",
              "    }\n",
              "\n",
              "    .dataframe tbody tr th {\n",
              "        vertical-align: top;\n",
              "    }\n",
              "\n",
              "    .dataframe thead th {\n",
              "        text-align: right;\n",
              "    }\n",
              "</style>\n",
              "<table border=\"1\" class=\"dataframe\">\n",
              "  <thead>\n",
              "    <tr style=\"text-align: right;\">\n",
              "      <th></th>\n",
              "      <th>Time</th>\n",
              "      <th>Bus 1_Vm</th>\n",
              "      <th>Bus 2_Vm</th>\n",
              "      <th>Bus 3_Vm</th>\n",
              "      <th>Bus 4_Vm</th>\n",
              "      <th>Bus 5_Vm</th>\n",
              "      <th>Bus 6_Vm</th>\n",
              "      <th>Bus 7_Vm</th>\n",
              "      <th>Bus 8_Vm</th>\n",
              "      <th>Bus 9_Vm</th>\n",
              "      <th>Bus 1_PA</th>\n",
              "      <th>Bus 2_PA</th>\n",
              "      <th>Bus 3_PA</th>\n",
              "      <th>Bus 4_PA</th>\n",
              "      <th>Bus 5_PA</th>\n",
              "      <th>Bus 6_PA</th>\n",
              "      <th>Bus 7_PA</th>\n",
              "      <th>Bus 8_PA</th>\n",
              "      <th>Bus 9_PA</th>\n",
              "      <th>Freq 1</th>\n",
              "      <th>Freq 2</th>\n",
              "      <th>Freq 3</th>\n",
              "      <th>Fault_duration_location</th>\n",
              "    </tr>\n",
              "  </thead>\n",
              "  <tbody>\n",
              "    <tr>\n",
              "      <th>9993</th>\n",
              "      <td>0.02</td>\n",
              "      <td>1.00</td>\n",
              "      <td>1.00</td>\n",
              "      <td>1.00</td>\n",
              "      <td>0.99</td>\n",
              "      <td>0.98</td>\n",
              "      <td>1.00</td>\n",
              "      <td>0.99</td>\n",
              "      <td>1.00</td>\n",
              "      <td>0.96</td>\n",
              "      <td>0.00</td>\n",
              "      <td>0.17</td>\n",
              "      <td>0.08</td>\n",
              "      <td>-0.04</td>\n",
              "      <td>-0.07</td>\n",
              "      <td>0.03</td>\n",
              "      <td>0.01</td>\n",
              "      <td>0.07</td>\n",
              "      <td>-0.08</td>\n",
              "      <td>0.00</td>\n",
              "      <td>0.00</td>\n",
              "      <td>0.00</td>\n",
              "      <td>3.05</td>\n",
              "    </tr>\n",
              "    <tr>\n",
              "      <th>1986</th>\n",
              "      <td>1.50</td>\n",
              "      <td>1.18</td>\n",
              "      <td>1.19</td>\n",
              "      <td>1.20</td>\n",
              "      <td>1.17</td>\n",
              "      <td>1.16</td>\n",
              "      <td>1.20</td>\n",
              "      <td>1.17</td>\n",
              "      <td>1.18</td>\n",
              "      <td>1.14</td>\n",
              "      <td>0.88</td>\n",
              "      <td>0.68</td>\n",
              "      <td>0.89</td>\n",
              "      <td>0.78</td>\n",
              "      <td>0.73</td>\n",
              "      <td>0.80</td>\n",
              "      <td>0.69</td>\n",
              "      <td>0.68</td>\n",
              "      <td>0.68</td>\n",
              "      <td>0.01</td>\n",
              "      <td>0.00</td>\n",
              "      <td>0.01</td>\n",
              "      <td>8.15</td>\n",
              "    </tr>\n",
              "    <tr>\n",
              "      <th>852</th>\n",
              "      <td>2.05</td>\n",
              "      <td>1.19</td>\n",
              "      <td>1.34</td>\n",
              "      <td>1.23</td>\n",
              "      <td>1.20</td>\n",
              "      <td>1.19</td>\n",
              "      <td>1.23</td>\n",
              "      <td>1.24</td>\n",
              "      <td>1.28</td>\n",
              "      <td>1.19</td>\n",
              "      <td>-0.57</td>\n",
              "      <td>-0.88</td>\n",
              "      <td>-0.52</td>\n",
              "      <td>-0.68</td>\n",
              "      <td>-0.72</td>\n",
              "      <td>-0.64</td>\n",
              "      <td>-0.80</td>\n",
              "      <td>-0.85</td>\n",
              "      <td>-0.81</td>\n",
              "      <td>0.00</td>\n",
              "      <td>-0.08</td>\n",
              "      <td>0.00</td>\n",
              "      <td>2.25</td>\n",
              "    </tr>\n",
              "    <tr>\n",
              "      <th>3830</th>\n",
              "      <td>1.88</td>\n",
              "      <td>1.15</td>\n",
              "      <td>1.11</td>\n",
              "      <td>1.11</td>\n",
              "      <td>1.12</td>\n",
              "      <td>1.10</td>\n",
              "      <td>1.12</td>\n",
              "      <td>1.10</td>\n",
              "      <td>1.11</td>\n",
              "      <td>1.08</td>\n",
              "      <td>0.35</td>\n",
              "      <td>0.60</td>\n",
              "      <td>0.53</td>\n",
              "      <td>0.33</td>\n",
              "      <td>0.32</td>\n",
              "      <td>0.47</td>\n",
              "      <td>0.44</td>\n",
              "      <td>0.49</td>\n",
              "      <td>0.31</td>\n",
              "      <td>-0.03</td>\n",
              "      <td>-0.05</td>\n",
              "      <td>-0.04</td>\n",
              "      <td>4.30</td>\n",
              "    </tr>\n",
              "    <tr>\n",
              "      <th>9730</th>\n",
              "      <td>3.00</td>\n",
              "      <td>1.03</td>\n",
              "      <td>1.00</td>\n",
              "      <td>1.00</td>\n",
              "      <td>1.01</td>\n",
              "      <td>0.99</td>\n",
              "      <td>1.01</td>\n",
              "      <td>0.99</td>\n",
              "      <td>1.00</td>\n",
              "      <td>0.98</td>\n",
              "      <td>0.44</td>\n",
              "      <td>0.61</td>\n",
              "      <td>0.51</td>\n",
              "      <td>0.39</td>\n",
              "      <td>0.36</td>\n",
              "      <td>0.46</td>\n",
              "      <td>0.44</td>\n",
              "      <td>0.50</td>\n",
              "      <td>0.36</td>\n",
              "      <td>-0.08</td>\n",
              "      <td>-0.07</td>\n",
              "      <td>-0.08</td>\n",
              "      <td>1.20</td>\n",
              "    </tr>\n",
              "  </tbody>\n",
              "</table>\n",
              "</div>\n",
              "      <button class=\"colab-df-convert\" onclick=\"convertToInteractive('df-4d2f9b14-6f65-41e8-884f-be9ba81691d9')\"\n",
              "              title=\"Convert this dataframe to an interactive table.\"\n",
              "              style=\"display:none;\">\n",
              "        \n",
              "  <svg xmlns=\"http://www.w3.org/2000/svg\" height=\"24px\"viewBox=\"0 0 24 24\"\n",
              "       width=\"24px\">\n",
              "    <path d=\"M0 0h24v24H0V0z\" fill=\"none\"/>\n",
              "    <path d=\"M18.56 5.44l.94 2.06.94-2.06 2.06-.94-2.06-.94-.94-2.06-.94 2.06-2.06.94zm-11 1L8.5 8.5l.94-2.06 2.06-.94-2.06-.94L8.5 2.5l-.94 2.06-2.06.94zm10 10l.94 2.06.94-2.06 2.06-.94-2.06-.94-.94-2.06-.94 2.06-2.06.94z\"/><path d=\"M17.41 7.96l-1.37-1.37c-.4-.4-.92-.59-1.43-.59-.52 0-1.04.2-1.43.59L10.3 9.45l-7.72 7.72c-.78.78-.78 2.05 0 2.83L4 21.41c.39.39.9.59 1.41.59.51 0 1.02-.2 1.41-.59l7.78-7.78 2.81-2.81c.8-.78.8-2.07 0-2.86zM5.41 20L4 18.59l7.72-7.72 1.47 1.35L5.41 20z\"/>\n",
              "  </svg>\n",
              "      </button>\n",
              "      \n",
              "  <style>\n",
              "    .colab-df-container {\n",
              "      display:flex;\n",
              "      flex-wrap:wrap;\n",
              "      gap: 12px;\n",
              "    }\n",
              "\n",
              "    .colab-df-convert {\n",
              "      background-color: #E8F0FE;\n",
              "      border: none;\n",
              "      border-radius: 50%;\n",
              "      cursor: pointer;\n",
              "      display: none;\n",
              "      fill: #1967D2;\n",
              "      height: 32px;\n",
              "      padding: 0 0 0 0;\n",
              "      width: 32px;\n",
              "    }\n",
              "\n",
              "    .colab-df-convert:hover {\n",
              "      background-color: #E2EBFA;\n",
              "      box-shadow: 0px 1px 2px rgba(60, 64, 67, 0.3), 0px 1px 3px 1px rgba(60, 64, 67, 0.15);\n",
              "      fill: #174EA6;\n",
              "    }\n",
              "\n",
              "    [theme=dark] .colab-df-convert {\n",
              "      background-color: #3B4455;\n",
              "      fill: #D2E3FC;\n",
              "    }\n",
              "\n",
              "    [theme=dark] .colab-df-convert:hover {\n",
              "      background-color: #434B5C;\n",
              "      box-shadow: 0px 1px 3px 1px rgba(0, 0, 0, 0.15);\n",
              "      filter: drop-shadow(0px 1px 2px rgba(0, 0, 0, 0.3));\n",
              "      fill: #FFFFFF;\n",
              "    }\n",
              "  </style>\n",
              "\n",
              "      <script>\n",
              "        const buttonEl =\n",
              "          document.querySelector('#df-4d2f9b14-6f65-41e8-884f-be9ba81691d9 button.colab-df-convert');\n",
              "        buttonEl.style.display =\n",
              "          google.colab.kernel.accessAllowed ? 'block' : 'none';\n",
              "\n",
              "        async function convertToInteractive(key) {\n",
              "          const element = document.querySelector('#df-4d2f9b14-6f65-41e8-884f-be9ba81691d9');\n",
              "          const dataTable =\n",
              "            await google.colab.kernel.invokeFunction('convertToInteractive',\n",
              "                                                     [key], {});\n",
              "          if (!dataTable) return;\n",
              "\n",
              "          const docLinkHtml = 'Like what you see? Visit the ' +\n",
              "            '<a target=\"_blank\" href=https://colab.research.google.com/notebooks/data_table.ipynb>data table notebook</a>'\n",
              "            + ' to learn more about interactive tables.';\n",
              "          element.innerHTML = '';\n",
              "          dataTable['output_type'] = 'display_data';\n",
              "          await google.colab.output.renderOutput(dataTable, element);\n",
              "          const docLink = document.createElement('div');\n",
              "          docLink.innerHTML = docLinkHtml;\n",
              "          element.appendChild(docLink);\n",
              "        }\n",
              "      </script>\n",
              "    </div>\n",
              "  </div>\n",
              "  "
            ],
            "text/plain": [
              "      Time  Bus 1_Vm  Bus 2_Vm  ...  Freq 2  Freq 3  Fault_duration_location\n",
              "9993  0.02      1.00      1.00  ...    0.00    0.00                     3.05\n",
              "1986  1.50      1.18      1.19  ...    0.00    0.01                     8.15\n",
              "852   2.05      1.19      1.34  ...   -0.08    0.00                     2.25\n",
              "3830  1.88      1.15      1.11  ...   -0.05   -0.04                     4.30\n",
              "9730  3.00      1.03      1.00  ...   -0.07   -0.08                     1.20\n",
              "\n",
              "[5 rows x 23 columns]"
            ]
          },
          "metadata": {},
          "execution_count": 5
        }
      ]
    },
    {
      "cell_type": "code",
      "source": [
        "#convert the data into an array \n",
        "dataset = dataframe.values\n",
        "X = dataset[0:,1:22].astype(float)\n",
        "y = dataset[0:,22].astype(float)\n",
        "\n",
        "\n",
        "#Split the data into training and testing parts \n",
        "from sklearn.model_selection import train_test_split\n",
        "X_train, X_test, y_train, y_test = train_test_split(X, y, test_size=0.3, random_state=42)"
      ],
      "metadata": {
        "id": "x2AKyoolCWQ_"
      },
      "execution_count": 6,
      "outputs": []
    },
    {
      "cell_type": "markdown",
      "metadata": {
        "id": "Jg6fQDq8Jbik"
      },
      "source": [
        "# III. Training Models"
      ]
    },
    {
      "cell_type": "markdown",
      "metadata": {
        "id": "AAzgOYulnAzN"
      },
      "source": [
        "##K-Nearest Neighbors (KNN) Model##"
      ]
    },
    {
      "cell_type": "markdown",
      "source": [
        "###Hypertuning: GridSearchCV"
      ],
      "metadata": {
        "id": "SLxMFfjqDlnC"
      }
    },
    {
      "cell_type": "code",
      "metadata": {
        "id": "jgZ2mprRnFqU"
      },
      "source": [
        "knn_param={\n",
        "    'n_neighbors':[5,9,17,21,53,101],\n",
        "    'weights':['uniform','distance'],\n",
        "    'metric': ['eucludian','manhattan']\n",
        "}"
      ],
      "execution_count": 4,
      "outputs": []
    },
    {
      "cell_type": "code",
      "metadata": {
        "id": "U8gg9w5KGtU_"
      },
      "source": [
        "knn=RandomizedSearchCV(KNeighborsRegressor(),knn_param,verbose=1,cv=5,n_jobs=-1, scoring='neg_mean_squared_error', return_train_score='true')\n",
        "knn_results=knn.fit(X,y)\n",
        "knn_results.best_score_\n",
        "knn_results.best_estimator_\n",
        "knn_results.best_params_"
      ],
      "execution_count": null,
      "outputs": []
    },
    {
      "cell_type": "markdown",
      "source": [
        "###Testing resutls"
      ],
      "metadata": {
        "id": "nzsprn4UPiDD"
      }
    },
    {
      "cell_type": "code",
      "metadata": {
        "id": "6OoGaxj_HnE8",
        "colab": {
          "base_uri": "https://localhost:8080/"
        },
        "outputId": "872d3440-2dca-4741-c990-3b52e1958de6"
      },
      "source": [
        "#KNN\n",
        "knn = KNeighborsRegressor(metric='manhattan', n_neighbors=101, weights='distance').fit(X_train, y_train) \n",
        "knn_predictions = knn.predict(X_test)  \n",
        "mae_knn=mean_absolute_error(y_test,knn_predictions)\n",
        "mse_knn=mean_squared_error(y_test,knn_predictions)\n",
        "r2_knn=r2_score(y_test,knn_predictions)\n",
        "print(\"\\nKNN model\")\n",
        "print(\"Mean Absolute Error (MAE) \"+str(mae_knn)) \n",
        "print(\"Mean Squared Error (MSE) \"+str(mse_knn)) \n",
        "print(\"R Squared \"+str(r2_knn))\n"
      ],
      "execution_count": 6,
      "outputs": [
        {
          "output_type": "stream",
          "name": "stdout",
          "text": [
            "\n",
            "KNN model\n",
            "Mean Absolute Error (MAE) 1.959538605363425\n",
            "Mean Squared Error (MSE) 5.732849993232834\n",
            "R Squared 0.1371234378434647\n"
          ]
        }
      ]
    },
    {
      "cell_type": "markdown",
      "metadata": {
        "id": "Nt8DJo3PGCrI"
      },
      "source": [
        "##Random Forest Regressor (RFR) Model##"
      ]
    },
    {
      "cell_type": "code",
      "metadata": {
        "id": "Lof0cw9dppV_"
      },
      "source": [
        "rf_param = { \n",
        "    'n_estimators': [100, 1000, 10000],\n",
        "    'max_features': ['None', 'sqrt', 'log2'],\n",
        "    'max_depth' : [4,6]\n",
        "}"
      ],
      "execution_count": 7,
      "outputs": []
    },
    {
      "cell_type": "code",
      "metadata": {
        "id": "yLdrdVl7CMlF"
      },
      "source": [
        "rf_gridsearch=GridSearchCV(RandomForestRegressor(), rf_param, verbose=1, cv=5, n_jobs=-1, scoring='neg_mean_squared_error', return_train_score='true')\n",
        "rf_results=rf_gridsearch.fit(X,y)\n",
        "rf_results.best_score_\n",
        "rf_results.best_estimator_\n",
        "rf_results.best_params_"
      ],
      "execution_count": null,
      "outputs": []
    },
    {
      "cell_type": "markdown",
      "source": [
        "###Testing resutls"
      ],
      "metadata": {
        "id": "4DoMH2qGPyd2"
      }
    },
    {
      "cell_type": "code",
      "metadata": {
        "colab": {
          "base_uri": "https://localhost:8080/"
        },
        "id": "BeVLesOILIpH",
        "outputId": "3236d12e-20cc-4f67-8d91-21eddc9fa8f5"
      },
      "source": [
        "#RF\n",
        "rf = RandomForestRegressor(n_estimators=1000, max_features='auto' )\n",
        "rf.fit(X_train,y_train)\n",
        "rf_prediction=rf.predict(X_test)\n",
        "mae_rf=mean_absolute_error(y_test,rf_prediction)\n",
        "mse_rf=mean_squared_error(y_test,rf_prediction)\n",
        "r2_rf=r2_score(y_test,rf_prediction)\n",
        "print(\"\\nRandom Forest Model: 1000 Estimators\")\n",
        "print(\"Mean Absolute Error (MAE) \"+str(mae_rf)) \n",
        "print(\"Mean Squared Error (MSE) \"+str(mse_rf)) \n",
        "print(\"R Squared \"+str(r2_rf))\n",
        "\n",
        "#learning curve\n",
        "#train_sizes_rf, train_scores_rf, validation_scores_rf = learning_curve(rf,X,y, cv=5, scoring = 'neg_mean_squared_error')"
      ],
      "execution_count": 11,
      "outputs": [
        {
          "output_type": "stream",
          "name": "stdout",
          "text": [
            "\n",
            "Random Forest Model: 1000 Estimators\n",
            "Mean Absolute Error (MAE) 1.2479003525723618\n",
            "Mean Squared Error (MSE) 3.2123357373862746\n",
            "R Squared 0.5164971661842903\n"
          ]
        }
      ]
    },
    {
      "cell_type": "markdown",
      "source": [
        "##Naive Bayes (NB) Model"
      ],
      "metadata": {
        "id": "EOuoXNdTISFi"
      }
    },
    {
      "cell_type": "code",
      "metadata": {
        "colab": {
          "base_uri": "https://localhost:8080/"
        },
        "id": "iiMX3soMJi5m",
        "outputId": "6e9da2bb-66ff-4609-cf95-de0a58606f92"
      },
      "source": [
        "nb_param={\n",
        "    'n_iter':[100,200, 300, 400, 500],\n",
        "    'lambda_1':[ 1,1e-06, 1e-02, 1e-04],\n",
        "    'alpha_1': [ 1,1e-06, 1e-02, 1e-04]\n",
        "}\n",
        "nb=GridSearchCV(linear_model.BayesianRidge(),nb_param,verbose=1,cv=5,n_jobs=-1, scoring= 'neg_mean_squared_error',  return_train_score='true')\n",
        "nb_results=nb.fit(X,y)\n",
        "nb_results.best_score_\n",
        "nb_results.best_estimator_\n",
        "nb_results.best_params_"
      ],
      "execution_count": null,
      "outputs": [
        {
          "output_type": "stream",
          "name": "stdout",
          "text": [
            "Fitting 5 folds for each of 80 candidates, totalling 400 fits\n"
          ]
        },
        {
          "output_type": "stream",
          "name": "stderr",
          "text": [
            "[Parallel(n_jobs=-1)]: Using backend LokyBackend with 2 concurrent workers.\n",
            "[Parallel(n_jobs=-1)]: Done 122 tasks      | elapsed:    3.8s\n",
            "[Parallel(n_jobs=-1)]: Done 400 out of 400 | elapsed:   10.1s finished\n"
          ]
        },
        {
          "output_type": "execute_result",
          "data": {
            "text/plain": [
              "{'alpha_1': 1, 'lambda_1': 1e-06, 'n_iter': 100}"
            ]
          },
          "metadata": {},
          "execution_count": 14
        }
      ]
    },
    {
      "cell_type": "markdown",
      "source": [
        "###Testing resutls"
      ],
      "metadata": {
        "id": "hkDtIomdPy_z"
      }
    },
    {
      "cell_type": "code",
      "metadata": {
        "colab": {
          "base_uri": "https://localhost:8080/"
        },
        "id": "3xQc2t5IpmEZ",
        "outputId": "6d62799a-934c-401b-9aa4-14dde40c2448"
      },
      "source": [
        "#NB\n",
        "nb =linear_model.BayesianRidge(n_iter=300, lambda_1= 1e-06, alpha_1=1).fit(X_train, y_train) \n",
        "gnb_predictions = nb.predict(X_test) \n",
        "mae_nb=mean_absolute_error(y_test,gnb_predictions)\n",
        "mse_nb=mean_squared_error(y_test,gnb_predictions)\n",
        "r2_nb=r2_score(y_test,gnb_predictions)\n",
        "print(\"\\nNaive Bayesian model\")\n",
        "print(\"Mean Absolute Error (MAE) \"+str(mae_nb)) \n",
        "print(\"Mean Squared Error (MSE) \"+str(mse_nb)) \n",
        "print(\"R Squared \"+str(r2_nb))"
      ],
      "execution_count": null,
      "outputs": [
        {
          "output_type": "stream",
          "text": [
            "\n",
            "Naive Bayesian model\n",
            "Mean Absolute Error (MAE) 2.066736544323986\n",
            "Mean Squared Error (MSE) 6.082267773215985\n",
            "R Squared 0.08453102515097632\n"
          ],
          "name": "stdout"
        }
      ]
    },
    {
      "cell_type": "markdown",
      "source": [
        "##Decision Tree (DT) Model"
      ],
      "metadata": {
        "id": "cY_Zg0KfIfvx"
      }
    },
    {
      "cell_type": "code",
      "metadata": {
        "colab": {
          "base_uri": "https://localhost:8080/"
        },
        "id": "QfxA2Cn-Ka2b",
        "outputId": "e568243f-69b1-4703-cb21-b9b135c2645c"
      },
      "source": [
        "dt_param={\n",
        "    'random_state':[0,1,2, 3, 4, 5],\n",
        "    'min_samples_leaf':[ 1,6, 12, 18],\n",
        "    'criterion':['squared_error', 'friedman_mse', 'absolute_error', 'poisson']\n",
        "    \n",
        "}\n",
        "  \n",
        "dt=GridSearchCV(DecisionTreeRegressor(), dt_param,verbose=1,cv=5,n_jobs=-1, scoring= 'neg_mean_squared_error', return_train_score='true')\n",
        "dt_results=dt.fit(X,y)\n",
        "dt_results.best_score_\n",
        "dt_results.best_estimator_\n",
        "dt_results.best_params_"
      ],
      "execution_count": null,
      "outputs": [
        {
          "output_type": "stream",
          "name": "stdout",
          "text": [
            "Fitting 5 folds for each of 96 candidates, totalling 480 fits\n"
          ]
        },
        {
          "output_type": "stream",
          "name": "stderr",
          "text": [
            "[Parallel(n_jobs=-1)]: Using backend LokyBackend with 2 concurrent workers.\n",
            "[Parallel(n_jobs=-1)]: Done 243 tasks      | elapsed:   26.5s\n",
            "[Parallel(n_jobs=-1)]: Done 480 out of 480 | elapsed:   29.1s finished\n"
          ]
        },
        {
          "output_type": "execute_result",
          "data": {
            "text/plain": [
              "{'criterion': 'friedman_mse', 'min_samples_leaf': 18, 'random_state': 3}"
            ]
          },
          "metadata": {},
          "execution_count": 22
        }
      ]
    },
    {
      "cell_type": "markdown",
      "source": [
        "###Testing resutls"
      ],
      "metadata": {
        "id": "r8TRXbotP0a2"
      }
    },
    {
      "cell_type": "code",
      "metadata": {
        "colab": {
          "base_uri": "https://localhost:8080/"
        },
        "id": "5d_PndrvpsVI",
        "outputId": "84e67e51-5c16-4cdc-f499-fae674ba10b6"
      },
      "source": [
        "#DT\n",
        "dt = DecisionTreeRegressor(min_samples_leaf=12,  max_features=20, random_state= 4 ).fit(X_train, y_train) \n",
        "dtree_prediction = dt.predict(X_test) \n",
        "mae_dt=mean_absolute_error(y_test,dtree_prediction) \n",
        "mse_dt=mean_squared_error(y_test,dtree_prediction) \n",
        "r2_dt=r2_score(y_test,dtree_prediction) \n",
        "\n",
        "print(\"\\nDecision tree model\") \n",
        "print(\"Mean Absolute Error (MAE) \"+str(mae_dt)) \n",
        "print(\"Mean Squared Error (MSE) \"+str(mse_dt)) \n",
        "print(\"R Squared \"+str(r2_dt))"
      ],
      "execution_count": null,
      "outputs": [
        {
          "output_type": "stream",
          "text": [
            "\n",
            "Decision tree model\n",
            "Mean Absolute Error (MAE) 1.4584692992304888\n",
            "Mean Squared Error (MSE) 4.198934733969239\n",
            "R Squared 0.36799979552161777\n"
          ],
          "name": "stdout"
        }
      ]
    },
    {
      "cell_type": "markdown",
      "source": [
        "##Deep Neural Network (DNN) Model"
      ],
      "metadata": {
        "id": "VH0LGgQgIoaq"
      }
    },
    {
      "cell_type": "markdown",
      "source": [
        "###Testing resutls"
      ],
      "metadata": {
        "id": "L64BUpq8QSjj"
      }
    },
    {
      "cell_type": "code",
      "metadata": {
        "colab": {
          "base_uri": "https://localhost:8080/"
        },
        "id": "goVOegL4tPDW",
        "outputId": "aaa01325-e160-4691-de11-7df89343ae5b"
      },
      "source": [
        "#DNN\n",
        "\n",
        "def dnn_model():\n",
        "    model = Sequential()\n",
        "    model.add(Dense(1000, input_dim=21, kernel_initializer='normal', activation='relu')) #500 units has 8.2% loss\n",
        "    model.add(Dense(500, kernel_initializer='normal', activation='relu'))\n",
        "    model.add(Dense(1000, kernel_initializer='normal', activation='relu'))\n",
        "#     model.add(Dense(20, kernel_initializer='normal', activation='relu'))\n",
        "#     model.add(Dense(20, kernel_initializer='normal', activation='relu'))\n",
        "#     model.add(Dense(70, kernel_initializer='normal', activation='relu'))\n",
        "    model.add(Dense(1000, kernel_initializer='normal', activation='relu'))\n",
        "    model.add(Dense(1, kernel_initializer='normal', activation='linear'))\n",
        "    model.compile(loss='mean_squared_error', optimizer='adam')\n",
        "    return model\n",
        "\n",
        "from keras.wrappers.scikit_learn import KerasRegressor, KerasClassifier\n",
        "\n",
        "dnn_model_regressor = KerasRegressor(build_fn=dnn_model)\n",
        "history = dnn_model_regressor.fit(X_train, y_train)\n",
        "dnn_model_regressor_predict = dnn_model_regressor.predict(X_test)\n",
        "mae_dnn=mean_absolute_error(y_test, dnn_model_regressor_predict)\n",
        "mse_dnn=mean_squared_error(y_test, dnn_model_regressor_predict)\n",
        "r2_dnn=r2_score(y_test, dnn_model_regressor_predict)\n",
        "print(\"\\nDNN with 3 hidden layers with 1000, 500, and 1000 units each and Relu activation function\")\n",
        "print(\"Mean Absolute Error (MAE) \"+str(mae_dnn)) \n",
        "print(\"Mean Squared Error (MSE) \"+str(mse_dnn)) \n",
        "print(\"R Squared \"+str(r2_dnn)) "
      ],
      "execution_count": null,
      "outputs": [
        {
          "output_type": "stream",
          "text": [
            "583/583 [==============================] - 16s 26ms/step - loss: 7.6922\n",
            "\n",
            "DNN with 3 hidden layers with 1000, 500, and 1000 units each and Relu activation function\n",
            "Mean Absolute Error (MAE) 2.1393978775219304\n",
            "Mean Squared Error (MSE) 6.331901800492066\n",
            "R Squared 0.04695750560876932\n"
          ],
          "name": "stdout"
        }
      ]
    },
    {
      "cell_type": "markdown",
      "source": [
        "##Neural Network (NN) Model"
      ],
      "metadata": {
        "id": "s6yJru21IuUH"
      }
    },
    {
      "cell_type": "markdown",
      "source": [
        "###Testing resutls"
      ],
      "metadata": {
        "id": "54uswHQXQWUl"
      }
    },
    {
      "cell_type": "code",
      "metadata": {
        "colab": {
          "base_uri": "https://localhost:8080/"
        },
        "id": "O72wgWAhuTwU",
        "outputId": "5861705e-bed6-4d45-a1b4-ecadb6727fc5"
      },
      "source": [
        "NN1 = MLPRegressor(max_iter=1500, activation='relu', solver='adam', learning_rate_init=0.001, hidden_layer_sizes=450).fit(X_train,y_train)\n",
        "NN1_prediction = NN1.predict(X_test)\n",
        "mae_NN1=mean_absolute_error(y_test,NN1_prediction)\n",
        "mse_NN1=mean_squared_error(y_test,NN1_prediction)\n",
        "r2_NN1=r2_score(y_test,NN1_prediction)\n",
        "print(\"NN with Relu activation function\")\n",
        "print(\"Mean Absolute Error (MAE) \"+str(mae_NN1)) \n",
        "print(\"Mean Squared Error (MSE) \"+str(mse_NN1)) \n",
        "print(\"R Squared \"+str(r2_NN1))"
      ],
      "execution_count": null,
      "outputs": [
        {
          "output_type": "stream",
          "text": [
            "NN with Relu activation function\n",
            "Mean Absolute Error (MAE) 1.6318024853800575\n",
            "Mean Squared Error (MSE) 4.2896934766144135\n",
            "R Squared 0.35433929647982165\n"
          ],
          "name": "stdout"
        }
      ]
    },
    {
      "cell_type": "markdown",
      "source": [
        "##Support Vector Machine (SVM) Model"
      ],
      "metadata": {
        "id": "Lox6yzs5I0mk"
      }
    },
    {
      "cell_type": "markdown",
      "source": [
        "###Testing resutls"
      ],
      "metadata": {
        "id": "IQ0s9loSQXwE"
      }
    },
    {
      "cell_type": "code",
      "metadata": {
        "colab": {
          "base_uri": "https://localhost:8080/"
        },
        "id": "F9Zy2fsfvCjI",
        "outputId": "0a9f0143-2686-4cb6-d0d8-2636b31ec913"
      },
      "source": [
        "SVM_model_2 = SVR(kernel = 'rbf', C = 10, gamma = 'scale').fit(X_train, y_train) \n",
        "SVM_predictions_2 = SVM_model_2.predict(X_test)  \n",
        "mae_SVM_2=mean_absolute_error(y_test,SVM_predictions_2)\n",
        "mse_SVM_2=mean_squared_error(y_test,SVM_predictions_2)\n",
        "r2_SVM_2=r2_score(y_test,SVM_predictions_2)\n",
        "print(\"\\nSVR with a rbf kernel\")\n",
        "print(\"Mean Absolute Error (MAE) \"+str(mae_SVM_2)) \n",
        "print(\"Mean Squared Error (MSE) \"+str(mse_SVM_2)) \n",
        "print(\"R Squared \"+str(r2_SVM_2)) "
      ],
      "execution_count": null,
      "outputs": [
        {
          "output_type": "stream",
          "text": [
            "\n",
            "SVR with a rbf kernel\n",
            "Mean Absolute Error (MAE) 1.9523634057282546\n",
            "Mean Squared Error (MSE) 5.963108784918884\n",
            "R Squared 0.10246617054867968\n"
          ],
          "name": "stdout"
        }
      ]
    },
    {
      "cell_type": "markdown",
      "metadata": {
        "id": "wUqFXrFVMfIk"
      },
      "source": [
        "##Hoeffdin tree (HT) Model"
      ]
    },
    {
      "cell_type": "markdown",
      "source": [
        "###Download scikit-multiflow package"
      ],
      "metadata": {
        "id": "f5T0VaxqQZWw"
      }
    },
    {
      "cell_type": "code",
      "metadata": {
        "id": "OXL-yZvsMJ4U"
      },
      "source": [
        "!pip install -U git+https://github.com/scikit-multiflow/scikit-multiflow"
      ],
      "execution_count": null,
      "outputs": []
    },
    {
      "cell_type": "code",
      "metadata": {
        "id": "jXL461GXMmkb"
      },
      "source": [
        "from skmultiflow.data import FileStream\n",
        "from skmultiflow.trees import HoeffdingTreeClassifier\n",
        "from skmultiflow.evaluation import EvaluatePrequential\n",
        "from skmultiflow.data import WaveformGenerator"
      ],
      "execution_count": null,
      "outputs": []
    },
    {
      "cell_type": "code",
      "metadata": {
        "colab": {
          "base_uri": "https://localhost:8080/"
        },
        "id": "s4I7sZc6Mq_D",
        "outputId": "96740a43-b426-4cf0-ad8d-ce504f940edb"
      },
      "source": [
        "stream =  FileStream(\"ML_Project/faultdataset-Bus7.csv\")\n",
        "stream.prepare_for_use()"
      ],
      "execution_count": null,
      "outputs": [
        {
          "output_type": "stream",
          "name": "stderr",
          "text": [
            "/usr/local/lib/python3.7/dist-packages/skmultiflow/data/base_stream.py:194: FutureWarning: 'prepare_for_use' has been deprecated in v0.5.0 and will be removed in v0.7.0.\n",
            "New instances of the Stream class are now ready to use after instantiation.\n",
            "  category=FutureWarning)\n"
          ]
        }
      ]
    },
    {
      "cell_type": "markdown",
      "source": [
        "###Testing resutls"
      ],
      "metadata": {
        "id": "QCXJNgbmQkmJ"
      }
    },
    {
      "cell_type": "code",
      "metadata": {
        "colab": {
          "base_uri": "https://localhost:8080/"
        },
        "id": "C8FBOHiGNgWl",
        "outputId": "8c94b249-1d6b-48c0-ad66-c532c5d841d9"
      },
      "source": [
        "ht=GridSearchCV(HoeffdingTreeClassifier(),ht_param,verbose=1,cv=5,n_jobs=-1, scoring='neg_mean_squared_error', return_train_score='true')\n",
        "ht_results=ht.fit(X,y)\n",
        "ht_results.best_score_\n",
        "ht_results.best_estimator_\n",
        "ht_results.best_params_"
      ],
      "execution_count": null,
      "outputs": [
        {
          "output_type": "stream",
          "name": "stdout",
          "text": [
            "Fitting 5 folds for each of 10 candidates, totalling 50 fits\n"
          ]
        },
        {
          "output_type": "stream",
          "name": "stderr",
          "text": [
            "[Parallel(n_jobs=-1)]: Using backend LokyBackend with 2 concurrent workers.\n",
            "[Parallel(n_jobs=-1)]: Done  46 tasks      | elapsed: 23.1min\n",
            "[Parallel(n_jobs=-1)]: Done  50 out of  50 | elapsed: 24.9min finished\n"
          ]
        }
      ]
    },
    {
      "cell_type": "markdown",
      "metadata": {
        "id": "OvdFEnvW6541"
      },
      "source": [
        "##IV. Simulate Missing Data"
      ]
    },
    {
      "cell_type": "markdown",
      "source": [
        "####Generate missing data by percentage 10%"
      ],
      "metadata": {
        "id": "YkXBpzcwoEwc"
      }
    },
    {
      "cell_type": "code",
      "metadata": {
        "colab": {
          "base_uri": "https://localhost:8080/"
        },
        "id": "FlaHJeTM7AAG",
        "outputId": "769e6ee1-498a-4586-ff95-36eefff85e7d"
      },
      "source": [
        "#Generate missing data by percentage 10%\n",
        "import warnings\n",
        "\n",
        "def ampute_mcar(X_complete, missing_rate = 0.1):\n",
        "    # Mask completly at random some values\n",
        "    \n",
        "    M = np.random.binomial(1, missing_rate, size = X_complete.shape)\n",
        "    X_obs = X_complete.copy()\n",
        "    np.putmask(X_obs, M, np.nan)\n",
        "    print('Percentage of newly generated missing values: {}'.\\\n",
        "      format(np.round(np.sum(np.isnan(X_obs))/X_obs.size,3)))\n",
        "    \n",
        "    # warning if a full row is missing\n",
        "    for row in X_obs:\n",
        "        if np.all(np.isnan(row)):\n",
        "            warnings.warn('Some row(s) contains only nan values.')\n",
        "            break\n",
        "\n",
        "    # warning if a full col is missing\n",
        "    for col in X_obs.T:\n",
        "        if np.all(np.isnan(col)):\n",
        "            warnings.warn('Some col(s) contains only nan values.')\n",
        "            break\n",
        "            \n",
        "    return X_obs\n",
        "  \n",
        "X_train_missing_data = ampute_mcar(X_train)\n",
        "\n",
        "#Convert NAN values into 0 \n",
        "from numpy import *\n",
        "where_are_NaNs = isnan(X_train_missing_data)\n",
        "X_train_missing_data[where_are_NaNs] = 0"
      ],
      "execution_count": null,
      "outputs": [
        {
          "output_type": "stream",
          "text": [
            "Percentage of newly generated missing values: 0.099\n"
          ],
          "name": "stdout"
        }
      ]
    },
    {
      "cell_type": "markdown",
      "source": [
        "####Re-Training RFR and KNN model including missing data"
      ],
      "metadata": {
        "id": "wXp02OL5oIgF"
      }
    },
    {
      "cell_type": "markdown",
      "source": [
        "#### RFR model results"
      ],
      "metadata": {
        "id": "8R9hXK5DoQCz"
      }
    },
    {
      "cell_type": "code",
      "metadata": {
        "colab": {
          "base_uri": "https://localhost:8080/"
        },
        "id": "TARQ6tPNBcMx",
        "outputId": "eb4796ac-827d-458b-cc3f-91b572d650c7"
      },
      "source": [
        "#Computing the training processing time\n",
        "import time\n",
        "start_time = time.time()\n",
        "#RF\n",
        "rf = RandomForestRegressor(n_estimators=1000)\n",
        "rf.fit(X_train_missing_data,y_train)\n",
        "end_time=time.time()\n",
        "training_time=end_time-start_time\n",
        "print(\"Training time for 18634 samples \"+str(training_time)) \n",
        "\n",
        "#Computing the testing processing time\n",
        "start_time = time.time()\n",
        "rf_prediction=rf.predict(X_test)\n",
        "end_time=time.time()\n",
        "testing_time=end_time-start_time\n",
        "print(\"Testing time for 7986 samples \"+str(testing_time)) \n",
        "\n",
        "\n",
        "mae_rf=mean_absolute_error(y_test,rf_prediction)\n",
        "mse_rf=mean_squared_error(y_test,rf_prediction)\n",
        "r2_rf=r2_score(y_test,rf_prediction)\n",
        "print(\"\\nRandom Forest model\")\n",
        "print(\"Mean Absolute Error (MAE) \"+str(mae_rf)) \n",
        "print(\"Mean Squared Error (MSE) \"+str(mse_rf)) \n",
        "print(\"R Squared \"+str(r2_rf))"
      ],
      "execution_count": null,
      "outputs": [
        {
          "output_type": "stream",
          "text": [
            "Training time for 37461 samples 193.36716294288635\n",
            "Testing time for 16055 samples 1.9241337776184082\n",
            "\n",
            "Random Forest model\n",
            "Mean Absolute Error (MAE) 1.3859734851339194\n",
            "Mean Squared Error (MSE) 3.569380918747213\n",
            "R Squared 0.46275671963659515\n"
          ],
          "name": "stdout"
        }
      ]
    },
    {
      "cell_type": "markdown",
      "source": [
        "####KNN model results"
      ],
      "metadata": {
        "id": "tcJ5ZJ-XoVcX"
      }
    },
    {
      "cell_type": "code",
      "metadata": {
        "colab": {
          "base_uri": "https://localhost:8080/"
        },
        "id": "qGQV2V22JpL_",
        "outputId": "bf72fef8-fc88-42ed-9cb9-cc4a7e58e704"
      },
      "source": [
        "#Re-Training model with missing data\n",
        "\n",
        "#Computing the training processing time\n",
        "import time\n",
        "start_time = time.time()\n",
        "#KNN\n",
        "knn = KNeighborsRegressor()\n",
        "knn.fit(X_train_missing_data,y_train)\n",
        "end_time=time.time()\n",
        "training_time=end_time-start_time\n",
        "print(\"Training time for 18634 samples \"+str(training_time)) \n",
        "\n",
        "#Computing the testing processing time\n",
        "start_time = time.time()\n",
        "knn_prediction=knn.predict(X_test)\n",
        "end_time=time.time()\n",
        "testing_time=end_time-start_time\n",
        "print(\"Testing time for 7986 samples \"+str(testing_time)) \n",
        "\n",
        "\n",
        "mae_knn=mean_absolute_error(y_test,knn_prediction)\n",
        "mse_knn=mean_squared_error(y_test,knn_prediction)\n",
        "r2_knn=r2_score(y_test,knn_prediction)\n",
        "print(\"\\nKNN model\")\n",
        "print(\"Mean Absolute Error (MAE) \"+str(mae_knn)) \n",
        "print(\"Mean Squared Error (MSE) \"+str(mse_knn)) \n",
        "print(\"R Squared \"+str(r2_knn))"
      ],
      "execution_count": null,
      "outputs": [
        {
          "output_type": "stream",
          "text": [
            "Training time for 37461 samples 0.11109185218811035\n",
            "Testing time for 16055 samples 1.4329698085784912\n",
            "\n",
            "KNN model\n",
            "Mean Absolute Error (MAE) 2.063934385174055\n",
            "Mean Squared Error (MSE) 6.45684510393188\n",
            "R Squared 0.028151737402050125\n"
          ],
          "name": "stdout"
        }
      ]
    }
  ]
}