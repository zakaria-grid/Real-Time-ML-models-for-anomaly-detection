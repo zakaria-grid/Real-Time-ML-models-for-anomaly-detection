{
 "cells": [
  {
   "cell_type": "markdown",
   "metadata": {
    "colab_type": "text",
    "id": "APVJKxL06R0s"
   },
   "source": [
    "# Import the required librairies"
   ]
  },
  {
   "cell_type": "code",
   "execution_count": 401,
   "metadata": {
    "colab": {},
    "colab_type": "code",
    "collapsed": true,
    "id": "kKAFtbQrukxf"
   },
   "outputs": [],
   "source": [
    "import numpy as np \n",
    "import pandas as pd \n",
    "import seaborn as sns \n",
    "import matplotlib.pyplot as plt\n",
    "from sklearn.model_selection import train_test_split\n",
    "from sklearn.neural_network import MLPClassifier\n",
    "from sklearn.metrics import classification_report,confusion_matrix,accuracy_score, mean_squared_error\n",
    "import matplotlib.pyplot as plt\n",
    "import pandas as pd\n",
    "from dateutil.parser import parse\n",
    "import datetime\n",
    "import matplotlib"
   ]
  },
  {
   "cell_type": "markdown",
   "metadata": {
    "colab_type": "text",
    "id": "IxH3S5g66W-A"
   },
   "source": [
    "# Upload FDI dataset "
   ]
  },
  {
   "cell_type": "code",
   "execution_count": 402,
   "metadata": {
    "colab": {
     "base_uri": "https://localhost:8080/",
     "height": 195
    },
    "colab_type": "code",
    "collapsed": false,
    "id": "bn3BKM3Pukxz",
    "outputId": "0adea916-deba-4a29-ba54-3c249a72a0af"
   },
   "outputs": [
    {
     "data": {
      "text/html": [
       "<div>\n",
       "<table border=\"1\" class=\"dataframe\">\n",
       "  <thead>\n",
       "    <tr style=\"text-align: right;\">\n",
       "      <th></th>\n",
       "      <th>Date</th>\n",
       "      <th>Time</th>\n",
       "      <th>Energy_consumption</th>\n",
       "      <th>Cost</th>\n",
       "      <th>Output</th>\n",
       "    </tr>\n",
       "  </thead>\n",
       "  <tbody>\n",
       "    <tr>\n",
       "      <th>50395</th>\n",
       "      <td>12/16/10</td>\n",
       "      <td>11:10:00 PM</td>\n",
       "      <td>1.11152</td>\n",
       "      <td>0.133382</td>\n",
       "      <td>Normal</td>\n",
       "    </tr>\n",
       "    <tr>\n",
       "      <th>34089</th>\n",
       "      <td>08/25/10</td>\n",
       "      <td>5:30:00 PM</td>\n",
       "      <td>0.90500</td>\n",
       "      <td>0.108600</td>\n",
       "      <td>Normal</td>\n",
       "    </tr>\n",
       "    <tr>\n",
       "      <th>44301</th>\n",
       "      <td>11/04/10</td>\n",
       "      <td>3:30:00 PM</td>\n",
       "      <td>0.60242</td>\n",
       "      <td>0.289162</td>\n",
       "      <td>Normal</td>\n",
       "    </tr>\n",
       "    <tr>\n",
       "      <th>8665</th>\n",
       "      <td>03/02/10</td>\n",
       "      <td>4:10:00 AM</td>\n",
       "      <td>1.04800</td>\n",
       "      <td>0.125760</td>\n",
       "      <td>Attack</td>\n",
       "    </tr>\n",
       "    <tr>\n",
       "      <th>6676</th>\n",
       "      <td>02/16/10</td>\n",
       "      <td>8:40:00 AM</td>\n",
       "      <td>0.05350</td>\n",
       "      <td>0.006420</td>\n",
       "      <td>Attack</td>\n",
       "    </tr>\n",
       "  </tbody>\n",
       "</table>\n",
       "</div>"
      ],
      "text/plain": [
       "           Date         Time  Energy_consumption      Cost  Output\n",
       "50395  12/16/10  11:10:00 PM             1.11152  0.133382  Normal\n",
       "34089  08/25/10   5:30:00 PM             0.90500  0.108600  Normal\n",
       "44301  11/04/10   3:30:00 PM             0.60242  0.289162  Normal\n",
       "8665   03/02/10   4:10:00 AM             1.04800  0.125760  Attack\n",
       "6676   02/16/10   8:40:00 AM             0.05350  0.006420  Attack"
      ]
     },
     "execution_count": 402,
     "metadata": {},
     "output_type": "execute_result"
    }
   ],
   "source": [
    "data = pd.read_csv('/Users/h/Downloads/FDI_dataset.csv')\n",
    "data.sample(n=5)"
   ]
  },
  {
   "cell_type": "markdown",
   "metadata": {
    "colab_type": "text",
    "id": "2RaS8mBs6s9J"
   },
   "source": [
    "# FDI dataset preprocessing: normalization (feature scaling)"
   ]
  },
  {
   "cell_type": "code",
   "execution_count": 403,
   "metadata": {
    "colab": {
     "base_uri": "https://localhost:8080/",
     "height": 195
    },
    "colab_type": "code",
    "collapsed": false,
    "id": "p2zlqjH4uky0",
    "outputId": "d8283c65-e754-48d9-e40a-f1030fe286ce"
   },
   "outputs": [
    {
     "data": {
      "text/html": [
       "<div>\n",
       "<table border=\"1\" class=\"dataframe\">\n",
       "  <thead>\n",
       "    <tr style=\"text-align: right;\">\n",
       "      <th></th>\n",
       "      <th>Energy_consumption</th>\n",
       "      <th>Cost</th>\n",
       "    </tr>\n",
       "  </thead>\n",
       "  <tbody>\n",
       "    <tr>\n",
       "      <th>3798</th>\n",
       "      <td>0.000000</td>\n",
       "      <td>0.000000</td>\n",
       "    </tr>\n",
       "    <tr>\n",
       "      <th>26966</th>\n",
       "      <td>0.187367</td>\n",
       "      <td>0.047181</td>\n",
       "    </tr>\n",
       "    <tr>\n",
       "      <th>20016</th>\n",
       "      <td>0.000000</td>\n",
       "      <td>0.000000</td>\n",
       "    </tr>\n",
       "    <tr>\n",
       "      <th>7226</th>\n",
       "      <td>0.099848</td>\n",
       "      <td>0.025143</td>\n",
       "    </tr>\n",
       "    <tr>\n",
       "      <th>50180</th>\n",
       "      <td>0.323476</td>\n",
       "      <td>0.081455</td>\n",
       "    </tr>\n",
       "  </tbody>\n",
       "</table>\n",
       "</div>"
      ],
      "text/plain": [
       "       Energy_consumption      Cost\n",
       "3798             0.000000  0.000000\n",
       "26966            0.187367  0.047181\n",
       "20016            0.000000  0.000000\n",
       "7226             0.099848  0.025143\n",
       "50180            0.323476  0.081455"
      ]
     },
     "execution_count": 403,
     "metadata": {},
     "output_type": "execute_result"
    }
   ],
   "source": [
    "df_norm = data[['Energy_consumption', 'Cost']].apply(lambda x: (x - x.min()) / (x.max() - x.min()))\n",
    "df_norm.sample(n=5)"
   ]
  },
  {
   "cell_type": "markdown",
   "metadata": {
    "colab_type": "text",
    "id": "nc_XUdX2ukzF"
   },
   "source": [
    "# Change the categorical values of the Output column into numerical values (Normal and attack into 0 and 1, respectively)"
   ]
  },
  {
   "cell_type": "code",
   "execution_count": 404,
   "metadata": {
    "colab": {
     "base_uri": "https://localhost:8080/",
     "height": 195
    },
    "colab_type": "code",
    "collapsed": false,
    "id": "TvYVfhPNukzH",
    "outputId": "79ad7f43-ee24-461c-ce88-d88f1094c910"
   },
   "outputs": [
    {
     "data": {
      "text/html": [
       "<div>\n",
       "<table border=\"1\" class=\"dataframe\">\n",
       "  <thead>\n",
       "    <tr style=\"text-align: right;\">\n",
       "      <th></th>\n",
       "      <th>Output</th>\n",
       "    </tr>\n",
       "  </thead>\n",
       "  <tbody>\n",
       "    <tr>\n",
       "      <th>23562</th>\n",
       "      <td>1</td>\n",
       "    </tr>\n",
       "    <tr>\n",
       "      <th>34441</th>\n",
       "      <td>0</td>\n",
       "    </tr>\n",
       "    <tr>\n",
       "      <th>3718</th>\n",
       "      <td>1</td>\n",
       "    </tr>\n",
       "    <tr>\n",
       "      <th>37204</th>\n",
       "      <td>0</td>\n",
       "    </tr>\n",
       "    <tr>\n",
       "      <th>15838</th>\n",
       "      <td>1</td>\n",
       "    </tr>\n",
       "  </tbody>\n",
       "</table>\n",
       "</div>"
      ],
      "text/plain": [
       "       Output\n",
       "23562       1\n",
       "34441       0\n",
       "3718        1\n",
       "37204       0\n",
       "15838       1"
      ]
     },
     "execution_count": 404,
     "metadata": {},
     "output_type": "execute_result"
    }
   ],
   "source": [
    "output = data[['Output']].replace(['Normal','Attack'],[0,1])\n",
    "output.sample(n=5)"
   ]
  },
  {
   "cell_type": "code",
   "execution_count": 405,
   "metadata": {
    "colab": {
     "base_uri": "https://localhost:8080/",
     "height": 195
    },
    "colab_type": "code",
    "collapsed": false,
    "id": "8A7FwNeXukzU",
    "outputId": "d9450ae0-033f-4e2c-9e35-58e64110ba20"
   },
   "outputs": [
    {
     "data": {
      "text/html": [
       "<div>\n",
       "<table border=\"1\" class=\"dataframe\">\n",
       "  <thead>\n",
       "    <tr style=\"text-align: right;\">\n",
       "      <th></th>\n",
       "      <th>Energy_consumption</th>\n",
       "      <th>Cost</th>\n",
       "      <th>Output</th>\n",
       "    </tr>\n",
       "  </thead>\n",
       "  <tbody>\n",
       "    <tr>\n",
       "      <th>3108</th>\n",
       "      <td>0.000000</td>\n",
       "      <td>0.000000</td>\n",
       "      <td>1</td>\n",
       "    </tr>\n",
       "    <tr>\n",
       "      <th>24422</th>\n",
       "      <td>0.000000</td>\n",
       "      <td>0.000000</td>\n",
       "      <td>1</td>\n",
       "    </tr>\n",
       "    <tr>\n",
       "      <th>31301</th>\n",
       "      <td>0.030289</td>\n",
       "      <td>0.007627</td>\n",
       "      <td>0</td>\n",
       "    </tr>\n",
       "    <tr>\n",
       "      <th>33156</th>\n",
       "      <td>0.048554</td>\n",
       "      <td>0.012226</td>\n",
       "      <td>0</td>\n",
       "    </tr>\n",
       "    <tr>\n",
       "      <th>32455</th>\n",
       "      <td>0.368189</td>\n",
       "      <td>0.092714</td>\n",
       "      <td>0</td>\n",
       "    </tr>\n",
       "  </tbody>\n",
       "</table>\n",
       "</div>"
      ],
      "text/plain": [
       "       Energy_consumption      Cost  Output\n",
       "3108             0.000000  0.000000       1\n",
       "24422            0.000000  0.000000       1\n",
       "31301            0.030289  0.007627       0\n",
       "33156            0.048554  0.012226       0\n",
       "32455            0.368189  0.092714       0"
      ]
     },
     "execution_count": 405,
     "metadata": {},
     "output_type": "execute_result"
    }
   ],
   "source": [
    "df = pd.concat([df_norm, output], axis=1)\n",
    "df.sample(n=5)"
   ]
  },
  {
   "cell_type": "markdown",
   "metadata": {
    "colab_type": "text",
    "id": "6qDpCRwc6_0d"
   },
   "source": [
    "# Split dataset into train/test (70%/30%)"
   ]
  },
  {
   "cell_type": "code",
   "execution_count": 406,
   "metadata": {
    "colab": {},
    "colab_type": "code",
    "collapsed": true,
    "id": "2OPRXz4NNA42"
   },
   "outputs": [],
   "source": [
    "dataset=df.values\n",
    "X=dataset[1:,0:1]\n",
    "Y=dataset[1:,2]"
   ]
  },
  {
   "cell_type": "code",
   "execution_count": 407,
   "metadata": {
    "colab": {},
    "colab_type": "code",
    "collapsed": true,
    "id": "VjSpQ8qsNA44"
   },
   "outputs": [],
   "source": [
    "train_X, test_X, train_Y, test_Y=train_test_split(X,Y, test_size=0.2)"
   ]
  },
  {
   "cell_type": "markdown",
   "metadata": {
    "colab_type": "text",
    "id": "X8gZwudk7CQB"
   },
   "source": [
    "# Build the ANN Model with Relu function, 5 layers and 100 nodes"
   ]
  },
  {
   "cell_type": "code",
   "execution_count": 408,
   "metadata": {
    "colab": {
     "base_uri": "https://localhost:8080/",
     "height": 151
    },
    "colab_type": "code",
    "collapsed": false,
    "id": "p-OfjTCauk0M",
    "outputId": "26ad3633-c5aa-4744-9c2e-72cb450400b2"
   },
   "outputs": [
    {
     "data": {
      "text/plain": [
       "MLPClassifier(activation='sigmoid', alpha=0.1, batch_size=32, beta_1=0.9,\n",
       "       beta_2=0.999, early_stopping=False, epsilon=1e-08,\n",
       "       hidden_layer_sizes=(15, 15, 15, 15), learning_rate=0.03,\n",
       "       learning_rate_init=0.001, max_iter=500, momentum=0.9,\n",
       "       nesterovs_momentum=True, power_t=0.5, random_state='None',\n",
       "       shuffle=True, solver='adam', tol=0.0001, validation_fraction=0.1,\n",
       "       verbose=False, warm_start=False)"
      ]
     },
     "execution_count": 408,
     "metadata": {},
     "output_type": "execute_result"
    }
   ],
   "source": [
    "MLPClassifier(activation='sigmoid', alpha=0.1, batch_size=32, beta_1=0.9,\n",
    "       beta_2=0.999, early_stopping=False, epsilon=1e-08,\n",
    "       hidden_layer_sizes=(15,15,15,15),learning_rate=0.03,\n",
    "       learning_rate_init=0.001, max_iter=500, momentum=0.9,\n",
    "       nesterovs_momentum=True, power_t=0.5, random_state='None',\n",
    "       shuffle=True, solver='adam', tol=0.0001, validation_fraction=0.1,\n",
    "       verbose=False, warm_start=False)"
   ]
  },
  {
   "cell_type": "markdown",
   "metadata": {
    "colab_type": "text",
    "id": "8b_Yz1d2NA4_"
   },
   "source": [
    "# Train and test the ANN Model"
   ]
  },
  {
   "cell_type": "code",
   "execution_count": 409,
   "metadata": {
    "colab": {
     "base_uri": "https://localhost:8080/",
     "height": 188
    },
    "colab_type": "code",
    "collapsed": false,
    "id": "pDrPBEkxuk0S",
    "outputId": "d9993f1a-f5a7-4204-c422-566c2284ed83"
   },
   "outputs": [
    {
     "data": {
      "text/plain": [
       "MLPClassifier(activation='relu', alpha=0.0001, batch_size='auto', beta_1=0.9,\n",
       "       beta_2=0.999, early_stopping=False, epsilon=1e-08,\n",
       "       hidden_layer_sizes=(100,), learning_rate='constant',\n",
       "       learning_rate_init=0.001, max_iter=200, momentum=0.9,\n",
       "       nesterovs_momentum=True, power_t=0.5, random_state=None,\n",
       "       shuffle=True, solver='adam', tol=0.0001, validation_fraction=0.1,\n",
       "       verbose=False, warm_start=False)"
      ]
     },
     "execution_count": 409,
     "metadata": {},
     "output_type": "execute_result"
    }
   ],
   "source": [
    "mlp = MLPClassifier()\n",
    "mlp.fit(train_X,train_Y)"
   ]
  },
  {
   "cell_type": "code",
   "execution_count": 410,
   "metadata": {
    "colab": {},
    "colab_type": "code",
    "collapsed": true,
    "id": "YhlYr4Rtuk0h"
   },
   "outputs": [],
   "source": [
    "predictions = mlp.predict(test_X)"
   ]
  },
  {
   "cell_type": "markdown",
   "metadata": {
    "colab_type": "text",
    "id": "0YVhNLqm7J5z"
   },
   "source": [
    "# Results: Confusion matrix, Pd, Pmd, Accurracy, Pfa"
   ]
  },
  {
   "cell_type": "code",
   "execution_count": 411,
   "metadata": {
    "colab": {
     "base_uri": "https://localhost:8080/",
     "height": 50
    },
    "colab_type": "code",
    "collapsed": false,
    "id": "Us6HQNhTuk0n",
    "outputId": "beb980cf-de3a-4dc3-fcda-eaf80b94e7bb"
   },
   "outputs": [
    {
     "name": "stdout",
     "output_type": "stream",
     "text": [
      "Confusion Matrix\n",
      "[[5067  233]\n",
      " [1090 4122]]\n"
     ]
    }
   ],
   "source": [
    "confMatrix=confusion_matrix(test_Y,predictions)\n",
    "print (\"Confusion Matrix\")\n",
    "print(confMatrix)"
   ]
  },
  {
   "cell_type": "code",
   "execution_count": 412,
   "metadata": {
    "colab": {
     "base_uri": "https://localhost:8080/",
     "height": 52
    },
    "colab_type": "code",
    "collapsed": false,
    "id": "nq0x9n-3uk1U",
    "outputId": "7f671006-da86-4879-be77-a9f062941a1e"
   },
   "outputs": [
    {
     "name": "stdout",
     "output_type": "stream",
     "text": [
      "Accuracy (%)\n",
      "87.4143835616\n"
     ]
    }
   ],
   "source": [
    "tn, fp, fn, tp=confMatrix.ravel()\n",
    "accuracy=(tp+tn)/confMatrix.sum()\n",
    "print (\"Accuracy (%)\")\n",
    "print (accuracy*100)"
   ]
  },
  {
   "cell_type": "code",
   "execution_count": 413,
   "metadata": {
    "colab": {
     "base_uri": "https://localhost:8080/",
     "height": 52
    },
    "colab_type": "code",
    "collapsed": false,
    "id": "Bd7fNSIEuk1e",
    "outputId": "6f04f1b2-056c-4166-e1af-da3f728bb744"
   },
   "outputs": [
    {
     "name": "stdout",
     "output_type": "stream",
     "text": [
      "Probability of miss detection (%)\n",
      "20.913277053\n"
     ]
    }
   ],
   "source": [
    "pmd=fn/(tp+fn)\n",
    "print (\"Probability of miss detection (%)\")\n",
    "print(pmd*100)"
   ]
  },
  {
   "cell_type": "code",
   "execution_count": 414,
   "metadata": {
    "collapsed": false
   },
   "outputs": [
    {
     "name": "stdout",
     "output_type": "stream",
     "text": [
      "Probability of  detection (%)\n",
      "79.086722947\n"
     ]
    }
   ],
   "source": [
    "pd=tp/(tp+fn)\n",
    "print (\"Probability of  detection (%)\")\n",
    "print(pd*100)"
   ]
  },
  {
   "cell_type": "code",
   "execution_count": 415,
   "metadata": {
    "colab": {
     "base_uri": "https://localhost:8080/",
     "height": 52
    },
    "colab_type": "code",
    "collapsed": false,
    "id": "qGElXnhbuk1p",
    "outputId": "429eea81-8e19-4383-973f-ba8cea3a287c"
   },
   "outputs": [
    {
     "name": "stdout",
     "output_type": "stream",
     "text": [
      "Probability of false alarm (%)\n",
      "4.39622641509\n"
     ]
    }
   ],
   "source": [
    "pf=fp/(fp+tn)\n",
    "print (\"Probability of false alarm (%)\")\n",
    "print(pf*100)  "
   ]
  },
  {
   "cell_type": "code",
   "execution_count": 416,
   "metadata": {
    "colab": {
     "base_uri": "https://localhost:8080/",
     "height": 195
    },
    "colab_type": "code",
    "collapsed": false,
    "id": "AuHI1EYYuk1v",
    "outputId": "7f6e3fe3-562b-4482-ab78-81f409aabab9"
   },
   "outputs": [
    {
     "name": "stdout",
     "output_type": "stream",
     "text": [
      "MSE\n",
      "0.125856164384\n"
     ]
    }
   ],
   "source": [
    "error=mean_squared_error(test_Y,predictions)\n",
    "print (\"MSE\")\n",
    "print(error)"
   ]
  },
  {
   "cell_type": "code",
   "execution_count": null,
   "metadata": {
    "collapsed": true
   },
   "outputs": [],
   "source": []
  }
 ],
 "metadata": {
  "colab": {
   "collapsed_sections": [],
   "name": "FDI_Code.ipynb",
   "provenance": [],
   "version": "0.3.2"
  },
  "kernelspec": {
   "display_name": "Python 3",
   "language": "python",
   "name": "python3"
  },
  "language_info": {
   "codemirror_mode": {
    "name": "ipython",
    "version": 3
   },
   "file_extension": ".py",
   "mimetype": "text/x-python",
   "name": "python",
   "nbconvert_exporter": "python",
   "pygments_lexer": "ipython3",
   "version": "3.6.0"
  }
 },
 "nbformat": 4,
 "nbformat_minor": 0
}
